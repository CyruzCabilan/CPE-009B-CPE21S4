{
  "nbformat": 4,
  "nbformat_minor": 0,
  "metadata": {
    "colab": {
      "provenance": [],
      "authorship_tag": "ABX9TyMuy6LNTraP5yYcWdSwomcl",
      "include_colab_link": true
    },
    "kernelspec": {
      "name": "python3",
      "display_name": "Python 3"
    },
    "language_info": {
      "name": "python"
    }
  },
  "cells": [
    {
      "cell_type": "markdown",
      "metadata": {
        "id": "view-in-github",
        "colab_type": "text"
      },
      "source": [
        "<a href=\"https://colab.research.google.com/github/CyruzCabilan/CPE-009B-CPE21S4/blob/main/Exercise1.ipynb\" target=\"_parent\"><img src=\"https://colab.research.google.com/assets/colab-badge.svg\" alt=\"Open In Colab\"/></a>"
      ]
    },
    {
      "cell_type": "code",
      "execution_count": 22,
      "metadata": {
        "colab": {
          "base_uri": "https://localhost:8080/"
        },
        "id": "EXCW7wb-FcRl",
        "outputId": "87efaaf8-2534-45e8-9f1e-b5d198b10209"
      },
      "outputs": [
        {
          "output_type": "stream",
          "name": "stdout",
          "text": [
            "My name is Ana and with an age of 19 and birthdate of january 3,2005\n"
          ]
        }
      ],
      "source": [
        "#Class constructor\n",
        "\n",
        "class Person():\n",
        "  def __init__(self,name,age,birthdate):\n",
        "    self.name = name\n",
        "    self.age = age\n",
        "    self.birthdate = birthdate    #Defining attribute and identity\n",
        "\n",
        "  def person_attribute(self):      #Method constructor\n",
        "    return f\"My name is {self.name} and with an age of {self.age} and birthdate of {self.birthdate}\"\n",
        "\n",
        "\n",
        "#object instantiation\n",
        "Person = Person(\"Ana\", 19, \"january 3,2005\") #behavior of a class\n",
        "print(Person.person_attribute())\n",
        "\n",
        "\n"
      ]
    },
    {
      "cell_type": "code",
      "source": [
        "#super class constructor\n",
        "class Person():\n",
        "  def __init__(self,name,age,birthdate):\n",
        "    self.name = name\n",
        "    self.age = age\n",
        "    self.birthdate = birthdate    #Defining attribute and identity\n",
        "\n",
        "  def person_attribute(self):      #Method constructor\n",
        "    return f\"My name is {self.name} and with an age of {self.age} and birthdate of {self.birthdate}\"\n",
        "class Teacher(Person):\n",
        " pass\n",
        "class Student(Person):\n",
        " pass\n",
        "\n",
        "#object instantiation\n",
        "Person = Person(\"Ana\", 19, \"january 3,2005\") #behavior of a class\n",
        "print(Person.person_attribute())\n",
        "student = Student(\"Mark\",20,\"April 7,2004\")\n",
        "print(student.person_attribute())\n",
        "teacher = Teacher(\"Apple cake\",40,\"December 25,1983\")\n",
        "print(teacher.person_attribute())"
      ],
      "metadata": {
        "colab": {
          "base_uri": "https://localhost:8080/"
        },
        "id": "X0RwE-yJPY3k",
        "outputId": "fcd67aaf-18c1-4fae-b893-bcfd92476003"
      },
      "execution_count": 32,
      "outputs": [
        {
          "output_type": "stream",
          "name": "stdout",
          "text": [
            "My name is Ana and with an age of 19 and birthdate of january 3,2005\n",
            "My name is Mark and with an age of 20 and birthdate of April 7,2004\n",
            "My name is Apple cake and with an age of 30 and birthdate of December 25,1935\n"
          ]
        }
      ]
    },
    {
      "cell_type": "markdown",
      "source": [
        "# **Challenge**"
      ],
      "metadata": {
        "id": "ihVBb6jwYvrH"
      }
    },
    {
      "cell_type": "code",
      "source": [
        "class Shapes:\n",
        "  def __init__(self, length, width):\n",
        "        self.length = length\n",
        "        self.width = width\n",
        "  def area(self):\n",
        "          return self.length * self.width\n",
        "class Area_Rectangle(Shapes):\n",
        "  pass\n",
        "  def perimeter(self):\n",
        "    return 2 * (self.length + self.width)\n",
        "class Area_Square(Shapes):\n",
        "  def __init__(self,length):\n",
        "    super().__init__(length, length)\n",
        "  def perimeter(self):\n",
        "    return 4 * self.length\n",
        "\n"
      ],
      "metadata": {
        "id": "JBI80iMoUAPB"
      },
      "execution_count": 68,
      "outputs": []
    },
    {
      "cell_type": "code",
      "source": [
        "rectangle = Area_Rectangle(4, 8)\n",
        "square = Area_Square(6)\n",
        "\n",
        "rectangle_area = rectangle.area()\n",
        "square_area = square.area()\n",
        "\n",
        "\n",
        "\n",
        "print(f\"Area of Rectangle: {rectangle_area}\")\n",
        "print(f\"Area of Square: {square_area}\")\n",
        "\n",
        "print (f\"The perimeter of Rectangle: {rectangle.perimeter()}\")\n",
        "print (f\"The perimeter of Square: {square.perimeter()}\")\n",
        "\n",
        "\n",
        "\n"
      ],
      "metadata": {
        "colab": {
          "base_uri": "https://localhost:8080/"
        },
        "id": "duv0i183Uz8J",
        "outputId": "fd94c518-3064-4815-c387-ddc71f7b04aa"
      },
      "execution_count": 69,
      "outputs": [
        {
          "output_type": "stream",
          "name": "stdout",
          "text": [
            "Area of Rectangle: 32\n",
            "Area of Square: 36\n",
            "The perimeter of Rectangle: 24\n",
            "The perimeter of Square: 24\n"
          ]
        }
      ]
    }
  ]
}
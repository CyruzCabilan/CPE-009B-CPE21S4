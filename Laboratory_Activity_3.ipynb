{
  "nbformat": 4,
  "nbformat_minor": 0,
  "metadata": {
    "colab": {
      "provenance": [],
      "authorship_tag": "ABX9TyMLCCdZdR5hf8Wj6Cyk2NE4",
      "include_colab_link": true
    },
    "kernelspec": {
      "name": "python3",
      "display_name": "Python 3"
    },
    "language_info": {
      "name": "python"
    }
  },
  "cells": [
    {
      "cell_type": "markdown",
      "metadata": {
        "id": "view-in-github",
        "colab_type": "text"
      },
      "source": [
        "<a href=\"https://colab.research.google.com/github/CyruzCabilan/CPE-009B-CPE21S4/blob/main/Laboratory_Activity_3.ipynb\" target=\"_parent\"><img src=\"https://colab.research.google.com/assets/colab-badge.svg\" alt=\"Open In Colab\"/></a>"
      ]
    },
    {
      "cell_type": "code",
      "execution_count": 5,
      "metadata": {
        "colab": {
          "base_uri": "https://localhost:8080/"
        },
        "id": "WVvN0z75hvj2",
        "outputId": "44284d7c-6bcb-4369-963b-1e3bb535a819"
      },
      "outputs": [
        {
          "output_type": "stream",
          "name": "stdout",
          "text": [
            "Aero's Salary: 3606\n",
            "kyle's Salary: 5468\n"
          ]
        }
      ],
      "source": [
        "class Employee:\n",
        "    def __init__(self, emp_id, emp_name):\n",
        "        self.__emp_id = emp_id\n",
        "        self.__emp_name = emp_name\n",
        "\n",
        "    def calculate_salary(self):\n",
        "        raise NotImplementedError(\"Must be implemented by subclasses.\")\n",
        "\n",
        "    @property\n",
        "    def emp_name(self):\n",
        "        return self.__emp_name\n",
        "\n",
        "\n",
        "class FullTime(Employee):\n",
        "    def __init__(self, emp_id, emp_name, allowance, rate):\n",
        "        super().__init__(emp_id, emp_name)\n",
        "        self.allowance = allowance\n",
        "        self.rate = rate\n",
        "\n",
        "    def calculate_salary(self):\n",
        "        return self.rate + self.allowance\n",
        "\n",
        "\n",
        "class PartTime(Employee):\n",
        "    def __init__(self, emp_id, emp_name, rate):\n",
        "        super().__init__(emp_id, emp_name)\n",
        "        self.rate = rate\n",
        "\n",
        "    def calculate_salary(self):\n",
        "        return self.rate\n",
        "\n",
        "\n",
        "def main():\n",
        "    employees = [\n",
        "        FullTime(1, \"Aero\", 1233, 2373),\n",
        "        PartTime(2, \"kyle\", 5468)\n",
        "    ]\n",
        "\n",
        "    for employee in employees:\n",
        "        salary = employee.calculate_salary()\n",
        "        print(f\"{employee.emp_name}'s Salary: {salary}\")\n",
        "\n",
        "\n",
        "if __name__ == \"__main__\":\n",
        "    main()"
      ]
    }
  ]
}